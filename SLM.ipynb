{
  "nbformat": 4,
  "nbformat_minor": 0,
  "metadata": {
    "colab": {
      "provenance": [],
      "authorship_tag": "ABX9TyO0S2GNjNo3J2cYGtRsCe+T",
      "include_colab_link": true
    },
    "kernelspec": {
      "name": "python3",
      "display_name": "Python 3"
    },
    "language_info": {
      "name": "python"
    }
  },
  "cells": [
    {
      "cell_type": "markdown",
      "metadata": {
        "id": "view-in-github",
        "colab_type": "text"
      },
      "source": [
        "<a href=\"https://colab.research.google.com/github/Tamizhanban11/SMA/blob/main/SLM.ipynb\" target=\"_parent\"><img src=\"https://colab.research.google.com/assets/colab-badge.svg\" alt=\"Open In Colab\"/></a>"
      ]
    },
    {
      "cell_type": "code",
      "execution_count": null,
      "metadata": {
        "colab": {
          "base_uri": "https://localhost:8080/"
        },
        "id": "2jlOu6vah7t9",
        "outputId": "b9f68ecb-e553-4d82-a8a4-495807574fc0"
      },
      "outputs": [
        {
          "output_type": "stream",
          "name": "stdout",
          "text": [
            "Collecting PyPDF2\n",
            "  Downloading pypdf2-3.0.1-py3-none-any.whl.metadata (6.8 kB)\n",
            "Downloading pypdf2-3.0.1-py3-none-any.whl (232 kB)\n",
            "\u001b[?25l   \u001b[90m━━━━━━━━━━━━━━━━━━━━━━━━━━━━━━━━━━━━━━━━\u001b[0m \u001b[32m0.0/232.6 kB\u001b[0m \u001b[31m?\u001b[0m eta \u001b[36m-:--:--\u001b[0m\r\u001b[2K   \u001b[91m━━━━━━━━━━━━━━━━━━━━━━━━\u001b[0m\u001b[91m╸\u001b[0m\u001b[90m━━━━━━━━━━━━━━━\u001b[0m \u001b[32m143.4/232.6 kB\u001b[0m \u001b[31m4.1 MB/s\u001b[0m eta \u001b[36m0:00:01\u001b[0m\r\u001b[2K   \u001b[90m━━━━━━━━━━━━━━━━━━━━━━━━━━━━━━━━━━━━━━━━\u001b[0m \u001b[32m232.6/232.6 kB\u001b[0m \u001b[31m4.0 MB/s\u001b[0m eta \u001b[36m0:00:00\u001b[0m\n",
            "\u001b[?25hInstalling collected packages: PyPDF2\n",
            "Successfully installed PyPDF2-3.0.1\n"
          ]
        }
      ],
      "source": [
        "!pip install PyPDF2"
      ]
    },
    {
      "cell_type": "code",
      "source": [
        "!pip install pdfplumber"
      ],
      "metadata": {
        "colab": {
          "base_uri": "https://localhost:8080/"
        },
        "id": "SEnM5FQolgO3",
        "outputId": "e008d9e8-47da-4b60-ee61-4451fd32a591"
      },
      "execution_count": null,
      "outputs": [
        {
          "output_type": "stream",
          "name": "stdout",
          "text": [
            "Collecting pdfplumber\n",
            "  Downloading pdfplumber-0.11.5-py3-none-any.whl.metadata (42 kB)\n",
            "\u001b[?25l     \u001b[90m━━━━━━━━━━━━━━━━━━━━━━━━━━━━━━━━━━━━━━━━\u001b[0m \u001b[32m0.0/42.5 kB\u001b[0m \u001b[31m?\u001b[0m eta \u001b[36m-:--:--\u001b[0m\r\u001b[2K     \u001b[90m━━━━━━━━━━━━━━━━━━━━━━━━━━━━━━━━━━━━━━━━\u001b[0m \u001b[32m42.5/42.5 kB\u001b[0m \u001b[31m1.8 MB/s\u001b[0m eta \u001b[36m0:00:00\u001b[0m\n",
            "\u001b[?25hCollecting pdfminer.six==20231228 (from pdfplumber)\n",
            "  Downloading pdfminer.six-20231228-py3-none-any.whl.metadata (4.2 kB)\n",
            "Requirement already satisfied: Pillow>=9.1 in /usr/local/lib/python3.11/dist-packages (from pdfplumber) (11.1.0)\n",
            "Collecting pypdfium2>=4.18.0 (from pdfplumber)\n",
            "  Downloading pypdfium2-4.30.1-py3-none-manylinux_2_17_x86_64.manylinux2014_x86_64.whl.metadata (48 kB)\n",
            "\u001b[2K     \u001b[90m━━━━━━━━━━━━━━━━━━━━━━━━━━━━━━━━━━━━━━━━\u001b[0m \u001b[32m48.2/48.2 kB\u001b[0m \u001b[31m3.3 MB/s\u001b[0m eta \u001b[36m0:00:00\u001b[0m\n",
            "\u001b[?25hRequirement already satisfied: charset-normalizer>=2.0.0 in /usr/local/lib/python3.11/dist-packages (from pdfminer.six==20231228->pdfplumber) (3.4.1)\n",
            "Requirement already satisfied: cryptography>=36.0.0 in /usr/local/lib/python3.11/dist-packages (from pdfminer.six==20231228->pdfplumber) (43.0.3)\n",
            "Requirement already satisfied: cffi>=1.12 in /usr/local/lib/python3.11/dist-packages (from cryptography>=36.0.0->pdfminer.six==20231228->pdfplumber) (1.17.1)\n",
            "Requirement already satisfied: pycparser in /usr/local/lib/python3.11/dist-packages (from cffi>=1.12->cryptography>=36.0.0->pdfminer.six==20231228->pdfplumber) (2.22)\n",
            "Downloading pdfplumber-0.11.5-py3-none-any.whl (59 kB)\n",
            "\u001b[2K   \u001b[90m━━━━━━━━━━━━━━━━━━━━━━━━━━━━━━━━━━━━━━━━\u001b[0m \u001b[32m59.5/59.5 kB\u001b[0m \u001b[31m3.6 MB/s\u001b[0m eta \u001b[36m0:00:00\u001b[0m\n",
            "\u001b[?25hDownloading pdfminer.six-20231228-py3-none-any.whl (5.6 MB)\n",
            "\u001b[2K   \u001b[90m━━━━━━━━━━━━━━━━━━━━━━━━━━━━━━━━━━━━━━━━\u001b[0m \u001b[32m5.6/5.6 MB\u001b[0m \u001b[31m46.0 MB/s\u001b[0m eta \u001b[36m0:00:00\u001b[0m\n",
            "\u001b[?25hDownloading pypdfium2-4.30.1-py3-none-manylinux_2_17_x86_64.manylinux2014_x86_64.whl (2.9 MB)\n",
            "\u001b[2K   \u001b[90m━━━━━━━━━━━━━━━━━━━━━━━━━━━━━━━━━━━━━━━━\u001b[0m \u001b[32m2.9/2.9 MB\u001b[0m \u001b[31m58.7 MB/s\u001b[0m eta \u001b[36m0:00:00\u001b[0m\n",
            "\u001b[?25hInstalling collected packages: pypdfium2, pdfminer.six, pdfplumber\n",
            "Successfully installed pdfminer.six-20231228 pdfplumber-0.11.5 pypdfium2-4.30.1\n"
          ]
        }
      ]
    },
    {
      "cell_type": "code",
      "source": [
        "from PyPDF2 import PdfReader\n",
        "pdf_path = \"/content/PYTHON PROGRAMMING NOTES (1).pdf\"\n",
        "reader = PdfReader(pdf_path)\n",
        "text = \"\\n\".join([page.extract_text() for page in reader.pages if page.extract_text()])\n",
        "text[:1000]"
      ],
      "metadata": {
        "colab": {
          "base_uri": "https://localhost:8080/",
          "height": 140
        },
        "id": "-IWCoJW3iOQ5",
        "outputId": "97b236ce-b076-47b6-a643-822a1389fe01"
      },
      "execution_count": null,
      "outputs": [
        {
          "output_type": "execute_result",
          "data": {
            "text/plain": [
              "'PYTHON  PROGRAMMING  IIIYEAR/II SEM  MRCET  \\n1  \\n UNIT –I \\nINTRODUCTIONDATA,EXPRESSIONS, STATEMENTS  \\nIntroduction to Python and installation , data types: Int, float, Boolean, string, and list; \\nvariables, expressions, statements, precedence  of operators, comments; modules, functions -- \\n-functionanditsuse,flowofexecution,parametersand  arguments.  \\nIntroductiontoPythonand installation:  \\nPython is a widely used general -purpose, high level programming language. It was initially \\ndesigned by Guido van Rossum in 1991 and developed by Python Software Foundation. It \\nwas mainly developed for emphasis on code readability, and its syntax allows programmers \\nto express concepts in fewe r lines of code.  \\nPython is a programming language that lets you work quickly and integrate systems more \\nefficiently.  \\nTherearetwomajorPythonversions -Python2andPython 3. \\n \\n \\n• On16October2000,Python2.0wasreleasedwithmanynew features.  \\n• On 3rd December 2008,Python 3.0was released with more testing and '"
            ],
            "application/vnd.google.colaboratory.intrinsic+json": {
              "type": "string"
            }
          },
          "metadata": {},
          "execution_count": 16
        }
      ]
    },
    {
      "cell_type": "code",
      "source": [
        "import re\n",
        "def clean_text(text):\n",
        "    text = re.sub(r'\\n+', '\\n', text)\n",
        "    text = re.sub(r'[^\\x00-\\x7F]+', ' ', text)\n",
        "    text = re.sub(r'\\s+', ' ', text)\n",
        "    return text.strip()\n",
        "cleaned_text = clean_text(text)\n",
        "words = cleaned_text.split()\n",
        "chunk_size = 500\n",
        "chunks = [\" \".join(words[i:i + chunk_size]) for i in range(0, len(words), chunk_size)]\n",
        "chunks[0]"
      ],
      "metadata": {
        "colab": {
          "base_uri": "https://localhost:8080/",
          "height": 140
        },
        "id": "0f4202iPiv4S",
        "outputId": "d88dc41a-322b-480f-f7e2-7e06a86ee91d"
      },
      "execution_count": null,
      "outputs": [
        {
          "output_type": "execute_result",
          "data": {
            "text/plain": [
              "'PYTHON PROGRAMMING IIIYEAR/II SEM MRCET 1 UNIT I INTRODUCTIONDATA,EXPRESSIONS, STATEMENTS Introduction to Python and installation , data types: Int, float, Boolean, string, and list; variables, expressions, statements, precedence of operators, comments; modules, functions -- -functionanditsuse,flowofexecution,parametersand arguments. IntroductiontoPythonand installation: Python is a widely used general -purpose, high level programming language. It was initially designed by Guido van Rossum in 1991 and developed by Python Software Foundation. It was mainly developed for emphasis on code readability, and its syntax allows programmers to express concepts in fewe r lines of code. Python is a programming language that lets you work quickly and integrate systems more efficiently. TherearetwomajorPythonversions -Python2andPython 3. On16October2000,Python2.0wasreleasedwithmanynew features. On 3rd December 2008,Python 3.0was released with more testing and includes new features. BeginningwithPython programming: 1) Findingan Interpreter: Before we start Python programming, we need to have an interpreter to interpret and run our programs. There are certain online interpreters like https://ide.geeksforgeeks.org/ , http://ideone.com/ or http://codepad.org/ that can be used to start Python without installingan interpreter. Windows : There are many interpreters available freely to run Python scripts like IDLE (Integrated D evelopment Environment) which is installed when you install the python software from http://python.org/ downloads/ 2) Writingfirst program: #ScriptBegins Statement1 PYTHON PROGRAMMING IIIYEAR/II SEM MRCET 2 Statement2 Statement3 #Script Ends Differencesbetweenscriptinglanguageandprogramming language: Whytouse Python: Thefollowingaretheprimaryfactorstousepythoninday -to-daylife: 1. Pythonisobject -oriented Structuresupportssuchconceptsaspolymorphism,operationoverloadingand multiple inheritance. 2. Indentation Indentationisoneofthegreatestfeaturein python PYTHON PROGRAMMING IIIYEAR/II SEM MRCET 3 3. It sfree(open source) Downloadingpyt honandinstallingpythonisfreeand easy 4. It sPowerful Dynamic typing Built -intypesand tools Library utilities Thirdpartyutilities(e.g.Numeric,NumPy, sciPy) Automaticmemory management 5. It sPortable Pythonrunsvirtuallyeverymajorplatformused today As long as you have a compaitable python interpreter installed, python programswillruninexactlythesamemanner,irrespectiveofplatform. 6. It seasytouseand learn Nointermediate compile PythonProgramsarecompiledautomaticallytoanintermediateformcalled byte code, which the interpreter then reads. Thisgivespythonthedevelopmentspeedofaninterpreterwithoutthe performance loss inherent in purely interpreted languages. Structureandsyntaxareprettyintuitiveandeasyto grasp. 7. Interpreted Language Pythonisprocessedatruntimebypython Interpreter 8. InteractiveProgramming Language Userscaninteractwiththepythoninterpreterdirectlyforwritingthe programs 9. Straightforward syntax Theformationofpythonsyntaxissimpleandstraightforwardwhichalsomakesit popular. Installation: There are many interpreters available fre ely to run Python scripts like IDLE (Integrated DevelopmentEnvironment)whichisinstalledwhenyouinstallthepythonsoftwarefrom http://python.org/downloads/ Stepstobefollowedand remembered: Step 1: Select Version of Python to Install. Step2:DownloadPythonExecutableInstaller. Step 3: Run Executable Installer. Step4:VerifyPythonWasInstalledOn Windows. PYTHON PROGRAMMING IIIYEAR/II SEM MRCET 4 Step5:VerifyPipWas Installed. Step6:AddPythonPathtoEnvironmentVariables (Optional) Working with Python PythonCodeExecution: Python straditionalruntimeexecutionmodel: Sourcecodeyoutypeistranslatedtobyte code, which is then run by the Python Virtual Machine (PVM). Your code is automatically compiled, but then it is interpreted. Source Byte code Runtime Sourcecodeextensionis .py Bytecodeextensionis.pyc(Compiledpython code) TherearetwomodesforusingthePython interpreter: Interactive Mode Script Mode m.py m.pyc PVM PYTHON PROGRAMMING IIIYEAR/II SEM MRCET 5 RunningPythonininteractive mode: Withoutpassingpythonscriptfiletotheinterpreter,directlyexecutecodetoPythonprompt. Once you re inside the python interpreter, then you can start. >>>print(\"helloworld\") hello world #Relevantoutputisdisplayedonsubsequentlineswithoutthe>>> symbol >>>x=[0,1,2] #Quantitiesstoredinmemoryarenotdisplayedby default. >>>x #Ifaquantityisstoredinmemory,typingitsnamewilldisplayit. [0, 1, 2] >>>2+3 5 The chevron at the beginning of the 1st line, i.e., the symbol>>>is a prompt the python interpreter uses to indicate that it is ready. If the programmer types 2+6, the interpreter replies 8. RunningPythoninscript mode: PYTHON PROGRAMMING IIIYEAR/II SEM MRCET 6 Alternatively,progr ammerscanstorePythonscriptsourcecodeinafilewith the.pyextension, and use the interpreter to execute the contents of the file. To execute the script by the interpreter, you have to tell the'"
            ],
            "application/vnd.google.colaboratory.intrinsic+json": {
              "type": "string"
            }
          },
          "metadata": {},
          "execution_count": 17
        }
      ]
    },
    {
      "cell_type": "code",
      "source": [
        "import PyPDF2\n",
        "pdf_path = \"/content/PYTHON PROGRAMMING NOTES (1).pdf\"\n",
        "with open(pdf_path, \"rb\") as file:\n",
        "    reader = PyPDF2.PdfReader(file)\n",
        "    text = \"\\n\".join([page.extract_text() for page in reader.pages if page.extract_text()])\n",
        "with open(\"book_text.txt\", \"w\", encoding=\"utf-8\") as text_file:\n",
        "    text_file.write(text)\n",
        "print(\" PDF text extracted and saved to 'book_text.txt'\")"
      ],
      "metadata": {
        "colab": {
          "base_uri": "https://localhost:8080/"
        },
        "id": "uYadpdNvi1i_",
        "outputId": "85e50d6b-ee3a-471e-9af4-ff77cd91a723"
      },
      "execution_count": null,
      "outputs": [
        {
          "output_type": "stream",
          "name": "stdout",
          "text": [
            " PDF text extracted and saved to 'book_text.txt'\n"
          ]
        }
      ]
    },
    {
      "cell_type": "code",
      "source": [
        "import numpy as np\n",
        "with open(\"book_text.txt\", \"r\", encoding=\"utf-8\") as file:\n",
        "    book_text = file.read()\n",
        "chunk_size = 500\n",
        "words = book_text.split()\n",
        "chunks = [\" \".join(words[i:i + chunk_size]) for i in range(0, len(words), chunk_size)]\n",
        "np.save(\"chunks.npy\", np.array(chunks))\n",
        "print(\" Text has been split into chunks and saved as 'chunks.npy'\")"
      ],
      "metadata": {
        "colab": {
          "base_uri": "https://localhost:8080/"
        },
        "id": "3AXoSXD4jDgC",
        "outputId": "f1f746bf-48d5-4c74-e6f8-4f0f56b09c7f"
      },
      "execution_count": null,
      "outputs": [
        {
          "output_type": "stream",
          "name": "stdout",
          "text": [
            " Text has been split into chunks and saved as 'chunks.npy'\n"
          ]
        }
      ]
    },
    {
      "cell_type": "code",
      "source": [
        "from sklearn.feature_extraction.text import TfidfVectorizer\n",
        "import numpy as np\n",
        "import joblib\n",
        "chunks = np.load(\"chunks.npy\", allow_pickle=True)\n",
        "vectorizer = TfidfVectorizer(stop_words='english', max_features=5000)\n",
        "tfidf_matrix = vectorizer.fit_transform(chunks)\n",
        "joblib.dump(vectorizer, \"vectorizer.pkl\")\n",
        "np.save(\"tfidf_matrix.npy\", tfidf_matrix.toarray())\n",
        "\n",
        "print(\" TF-IDF model is now ready for question answering!\")"
      ],
      "metadata": {
        "colab": {
          "base_uri": "https://localhost:8080/"
        },
        "id": "yCzXa2gvjGU7",
        "outputId": "3ea1ec79-2321-48eb-86c6-86dac79d81a1"
      },
      "execution_count": null,
      "outputs": [
        {
          "output_type": "stream",
          "name": "stdout",
          "text": [
            " TF-IDF model is now ready for question answering!\n"
          ]
        }
      ]
    },
    {
      "cell_type": "code",
      "source": [
        "import numpy as np\n",
        "import joblib\n",
        "from sklearn.metrics.pairwise import cosine_similarity\n",
        "vectorizer = joblib.load(\"vectorizer.pkl\")\n",
        "tfidf_matrix = np.load(\"tfidf_matrix.npy\")\n",
        "chunks = np.load(\"chunks.npy\", allow_pickle=True)\n",
        "print(\"💬 Type your questions below. Type 'exit' to stop.\\n\")\n",
        "while True:\n",
        "    question = input(\"Ask a question: \")\n",
        "    if question.lower() == \"exit\":\n",
        "        print(\"🚪 Exiting the Q&A system. Have a great day! 😊\")\n",
        "        break\n",
        "    question_vector = vectorizer.transform([question])\n",
        "    similarities = cosine_similarity(question_vector, tfidf_matrix)\n",
        "    best_match_idx = np.argmax(similarities)\n",
        "    best_answer = chunks[best_match_idx]\n",
        "    print(\"\\n📖 Answer from the book:\\n\")\n",
        "    print(best_answer)\n",
        "    print(\"\\n\" + \"-\"*80 + \"\\n\")"
      ],
      "metadata": {
        "colab": {
          "base_uri": "https://localhost:8080/"
        },
        "id": "grTBf75IngKg",
        "outputId": "2e660ae8-fa5c-4dd3-cde9-1622098cfa57"
      },
      "execution_count": null,
      "outputs": [
        {
          "output_type": "stream",
          "name": "stdout",
          "text": [
            "💬 Type your questions below. Type 'exit' to stop.\n",
            "\n",
            "Ask a question: define while loop\n",
            "\n",
            "📖 Answer from the book:\n",
            "\n",
            "inside a nested loop ( loop inside another loop), break will terminate the innermost loop. Flowchart: Thefollowingshowstheworkingofbreakstatementinforandwhile loop: forvar in sequence: #codeinsideforloop If condition: break(ifbreakconditionsatisfiesitjumpstooutsideloop) # code inside for loop #codeoutsidefor loop PYTHON PROGRAMMING IIIYEAR/II SEM MRCET 50 whiletest expression #codeinsidewhileloop If condition: break(ifbreakconditionsatisfiesitjumpstooutsideloop) # code inside while loop #codeoutsidewhile loop Example: forva lin\"MRCETCOLLEGE\": if val == \"\": break print(val) print(\"The end\") Output: M R C E T Theend #Programtodisplayalltheelementsbeforenumber 88 fornumin[11,9,88,10,90,3, 19]: print(num) if(num==88): print(\"Thenumber88isfound\") print(\"Terminating the loop\") break Output: 11 9 88 Thenumber88is found PYTHON PROGRAMMING IIIYEAR/II SEM MRCET 51 Terminatingthe loop # forletterin\"Python\":#FirstExample if letter == \"h\": break print(\"CurrentLetter:\",letter ) Output: C:/Users/MRCET/AppData/Local/Programs/Python/Python38 -32/pyyy/br.py= Current Letter : P CurrentLetter:y Current Letter : t Continue: The continue statement is used to skip the rest of the code inside a loop for the current iteration only. Loop does not ter minate but continues on with the next iteration. Flowchart: Thefollowingshowstheworkingofbreakstatementinforandwhile loop: PYTHON PROGRAMMING IIIYEAR/II SEM MRCET 52 forvar in sequence: #codeinsideforloop If condition: continue(ifbreakconditionsatisfiesitjumpstooutsideloop) # code inside for loop #codeoutsidefor loop whiletest expression #codeinsidewhileloop If condition: continue(ifbreakconditionsatisfiesitjumpstooutsideloop) # code inside while loop #codeoutsidewhile loop Example: #Programtoshowtheuseofcontinuestatementinside loops forvalin\"string\": if val == \"i\": continue print(val) print(\"Theend\") Output: C:/Users/MRCET/AppData/Local/Programs/Python/Python38 - 32/pyyy/cont.py s t r n g Theend #programtodisplayonlyoddnumbers for num in [20, 11, 9, 66, 4, 89, 44]: PYTHON PROGRAMMING IIIYEAR/II SEM MRCET 53 #Skippingtheiterationwhennumberiseven if num%2 == 0: continue #Thisstatementwillbeskippedforallevennumbers print(num) Output: C:/Users /MRCET/AppData/Local/Programs/Python/Python38 -32/pyyy/cont2.py 11 9 89 # forletterin\"Python\":#FirstExample if letter == \"h\": continue print(\"CurrentLetter:\",letter) Output: C:/Users/MRCET/AppData/Local/Programs/Python/Python38 -32/pyyy/con1.py Current Letter : P CurrentLetter:y Current Letter : t CurrentLetter:o CurrentLetter: n Pass: InPythonprogramming, passisanullstatement.Thedifferencebetween acomment andpa ssstatement in Python is that, while the interpreter ignores a comment entirely, pass is not ignored. passisjustaplaceholderforfunctionalitytobeadded later. Example: sequence={'p','a','s','s'} for val in sequence: pass Output: C:/Users/MRCET/AppData/Local/Programs/Python/Python38 -32/pyyy/f1.y.py PYTHON PROGRAMMING IIIYEAR/II SEM MRCET 54 >>> Similarilywecanalso write, def f(arg): pass #afunctionthatdoesnothing(yet) class C: pass # a class with no methods (yet) PYTHON PROGRAMMING IIIYEAR/II SEM MRCET 55 UNIT – IIIFUNCTIONS,ARRA YS Fruitful functions: return values, parameters, local and global scope, function composition, recursion; Strings: string slices, immutability, string functions and methods, string module; Python arrays, Access the Elements of an Array, array methods. Functions, Arrays: Fruitful functions: We write functions that return values, which we will call fruitful functions. We have seenthereturnstatement before, but in a fruitful function the returnstatement includes a return value. This statement means: \"Return immediately from this function and use the following expression as a return value.\" (or) Any function that returns a value is called Fruitful function. A Function that does not returna value is called a void function Return values: TheKeywordreturnisusedtoreturnbackthevaluetothecalled function. #returnsthearea ofacirclewiththegiven radius: def area(radius): temp=3.14*radius**2 return temp print(area(4)) (or) def area(radius): return3.14 *radius**2 print(area(2)) Sometimesitisusefultohavemultiplereturnstatements,oneineachbranchofa conditional: defabsolute_value(x): if x < 0: PYTHON PROGRAMMING IIIYEAR/II SEM MRCET 56 return -x else: return x Sincethesereturnstatementsareinanalternativeconditional,onlyonewillbe executed. As soon as a return statement executes, the function terminates without executing any subsequent statements. Code that appears after a returnstatement, or any other place theflo w of execution can never reach,\n",
            "\n",
            "--------------------------------------------------------------------------------\n",
            "\n",
            "Ask a question: exit\n",
            "🚪 Exiting the Q&A system. Have a great day! 😊\n"
          ]
        }
      ]
    }
  ]
}